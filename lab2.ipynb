{
 "cells": [
  {
   "cell_type": "code",
   "execution_count": 152,
   "metadata": {},
   "outputs": [],
   "source": [
    "import numpy as np \n",
    "import sympy as sp\n",
    "import matplotlib.pyplot as plt"
   ]
  },
  {
   "cell_type": "markdown",
   "metadata": {},
   "source": [
    "# Lab 2 - Photographic Astronometry"
   ]
  },
  {
   "cell_type": "markdown",
   "metadata": {},
   "source": [
    "### Pixel positions of stars [mm]"
   ]
  },
  {
   "cell_type": "code",
   "execution_count": 153,
   "metadata": {},
   "outputs": [],
   "source": [
    "# Star 1\n",
    "x1 = np.array([19.22, 19.3, 19.39, 19.47, 19.39, 19.3])\n",
    "y1 = np.array([59.86, 60.03, 59.94, 60.03, 60.03, 59.94])\n",
    "\n",
    "# Star 2\n",
    "x2 = np.array([40.22, 40.13, 40.13, 39.96, 40.13, 39.96])\n",
    "y2 = np.array([23.03, 23.11, 23.03, 23.11, 23.2, 23.03])\n",
    "\n",
    "# Star 3\n",
    "x3 = np.array([64.35, 64.35, 64.26, 64.26, 64.35, 64.26])\n",
    "y3 = np.array([56.56, 56.64, 56.64, 56.64, 56.73, 56.64])\n",
    "\n",
    "# Star 0\n",
    "x0 = np.array([47.92, 47.92, 47.92, 47.92, 48.01, 47.92])\n",
    "y0 = np.array([59.22, 51.31, 51.22, 51.22, 51.39, 51.22])\n",
    "\n",
    "# Plate Midpoint\n",
    "xM = np.array([43.35, 43.43, 43.52, 43.35, 43.43, 43.52])\n",
    "yM = np.array([42.33, 42.42, 42.08, 42.16, 42.33, 42.42])\n",
    "\n",
    "# S0i\n",
    "\n",
    "S01 = np.sqrt((x1 - x0)**2 + (y1 -y0)**2)\n",
    "S02 = np.sqrt((x2 - x0)**2 + (y2 -y0)**2)\n",
    "S03 = np.sqrt((x3 - x0)**2 + (y3 -y0)**2)\n",
    "S0M = np.sqrt((xM - x0)**2 + (yM -y0)**2)\n",
    "\n",
    "# S0i x und y Werte (Mittelwert und Standardabweichung)\n",
    "\n",
    "S01_x_mean = np.mean(x1 - x0)\n",
    "S01_y_mean = np.mean(y1 -y0)\n",
    "S01_x_std = np.std(x1 - x0)\n",
    "S01_y_std = np.std(y1 - y0)\n",
    "\n",
    "S02_x_mean = np.mean(x2 - x0)\n",
    "S02_y_mean = np.mean(y2 -y0)\n",
    "S02_x_std = np.std(x2 - x0)\n",
    "S02_y_std = np.std(y2 - y0)\n",
    "\n",
    "S03_x_mean = np.mean(x3 - x0)\n",
    "S03_y_mean = np.mean(y3 -y0)\n",
    "S03_x_std = np.std(x3 - x0)\n",
    "S03_y_std = np.std(y3 - y0)\n",
    "\n",
    "S01_mean = np.mean(S01)\n",
    "S01_std = np.std(S01)\n",
    "\n",
    "S02_mean = np.mean(S02)\n",
    "S02_std = np.std(S02)\n",
    "\n",
    "S03_mean = np.mean(S03)\n",
    "S03_std = np.std(S03)\n",
    "\n",
    "S0M_mean = np.mean(S0M)\n",
    "S0M_std = np.std(S0M)\n",
    "\n",
    "# SMi\n",
    "\n",
    "SM1 = np.sqrt((x1 - xM)**2 + (y1 -yM)**2)\n",
    "SM2 = np.sqrt((x2 - xM)**2 + (y2 -yM)**2)\n",
    "SM3 = np.sqrt((x3 - xM)**2 + (y3 -yM)**2)\n",
    "\n",
    "SM1_mean = np.mean(SM1)\n",
    "SM1_std = np.std(SM1)\n",
    "\n",
    "SM2_mean = np.mean(SM2)\n",
    "SM2_std = np.std(SM2)\n",
    "\n",
    "SM3_mean = np.mean(SM3)\n",
    "SM3_std = np.std(SM3)\n",
    "\n",
    "# S0M\n",
    "SM0 = np.sqrt((x0 - xM)**2 + (y0 -yM)**2)\n",
    "\n",
    "SM0_mean = np.mean(SM0)\n",
    "SM0_std = np.std(SM0)\n"
   ]
  },
  {
   "cell_type": "markdown",
   "metadata": {},
   "source": [
    "#### Errors for D2 and D3"
   ]
  },
  {
   "cell_type": "code",
   "execution_count": 154,
   "metadata": {},
   "outputs": [
    {
     "name": "stdout",
     "output_type": "stream",
     "text": [
      "{D2: (-x1*y3 + x3*y1)/(x2*y3 - x3*y2), D3: (x1*y2 - x2*y1)/(x2*y3 - x3*y2)}\n"
     ]
    }
   ],
   "source": [
    "D2, D3 = sp.symbols('D2 D3')\n",
    "\n",
    "x1, x2, x3 = sp.symbols('x1 x2 x3')  \n",
    "y1, y2, y3 = sp.symbols('y1 y2 y3')  \n",
    "\n",
    "# Step 3: Set up the equations\n",
    "eq1 = sp.Eq(x1 + D2 * x2 + D3 * x3, 0)\n",
    "eq2 = sp.Eq(y1 + D2 * y2 + D3 * y3, 0)\n",
    "\n",
    "solution = sp.solve((eq1, eq2), (D2, D3))\n",
    "print(solution)\n"
   ]
  },
  {
   "cell_type": "code",
   "execution_count": 155,
   "metadata": {},
   "outputs": [
    {
     "name": "stdout",
     "output_type": "stream",
     "text": [
      "Fehler für D2:  0.24970456087352955 Fehler für D3:  0.11997587871033938\n"
     ]
    }
   ],
   "source": [
    "D2_sol = solution[D2]\n",
    "D3_sol = solution[D3]\n",
    "\n",
    "values = {\n",
    "    x1: S01_x_mean, x2: S02_x_mean, x3: S03_x_mean,\n",
    "    y1: S01_y_mean, y2: S02_y_mean, y3: S03_y_mean\n",
    "}\n",
    "\n",
    "vars = [x1, x2, x3, y1, y2, y3]\n",
    "\n",
    "# Partielle Ableitund dD2/dx1, dD2/dx2 ... \n",
    "evaluated2 = np.zeros((6)) # D2 abgeleitet nach x1 ... y3\n",
    "evaluated3 = np.zeros((6)) # D3 abgeleitet nach x1 ... y3\n",
    "\n",
    "for i in range(6):\n",
    "    var = vars[i]\n",
    "    derivative = sp.diff(D2_sol, var)\n",
    "    evaluated2[i] = derivative.subs(values)\n",
    "\n",
    "for i in range(6):\n",
    "    var = vars[i]\n",
    "    derivative = sp.diff(D3_sol, var)\n",
    "    evaluated3[i] = derivative.subs(values)\n",
    "    # print(f\"∂D3/∂{var} =\", evaluated)\n",
    "\n",
    "s_D2 = np.sqrt((evaluated2[0] * S01_x_std)**2 + (evaluated2[1] * S02_x_std)**2 + (evaluated2[2] * S03_x_std)**2 + (evaluated2[3] * S01_y_std)**2 + (evaluated2[4] * S02_y_std)**2 + (evaluated2[5] * S03_y_std)**2)\n",
    "s_D3 = np.sqrt((evaluated3[0] * S01_x_std)**2 + (evaluated3[1] * S02_x_std)**2 + (evaluated3[2] * S03_x_std)**2 + (evaluated3[3] * S01_y_std)**2 + (evaluated3[4] * S02_y_std)**2 + (evaluated3[5] * S03_y_std)**2)\n",
    "\n",
    "print('Fehler für D2: ', s_D2, 'Fehler für D3: ', s_D3)"
   ]
  },
  {
   "cell_type": "markdown",
   "metadata": {},
   "source": [
    "### Values for D2 and D3"
   ]
  },
  {
   "cell_type": "code",
   "execution_count": 156,
   "metadata": {},
   "outputs": [
    {
     "name": "stdout",
     "output_type": "stream",
     "text": [
      "{D2: 0.523688506742104, D3: 1.99750819484238}\n"
     ]
    },
    {
     "data": {
      "text/plain": [
       "sympy.core.numbers.Float"
      ]
     },
     "execution_count": 156,
     "metadata": {},
     "output_type": "execute_result"
    }
   ],
   "source": [
    "# Dependencies Di\n",
    "D1 = 1\n",
    "D2, D3 = sp.symbols('D2 D3')\n",
    "\n",
    "# Jetzt mit den richtigen Werten\n",
    "x1, x2, x3 = S01_x_mean, S02_x_mean, S03_x_mean   \n",
    "y1, y2, y3 = S01_y_mean, S02_y_mean, S03_y_mean  \n",
    "\n",
    "# Step 3: Set up the equations\n",
    "eq1 = sp.Eq(x1 + D2 * x2 + D3 * x3, 0)\n",
    "eq2 = sp.Eq(y1 + D2 * y2 + D3 * y3, 0)\n",
    "\n",
    "# Step 4: Solve the system of equations\n",
    "solution = sp.solve((eq1, eq2), (D2, D3))\n",
    "\n",
    "# Print the solution\n",
    "print(solution)\n",
    "type(solution[D2])"
   ]
  },
  {
   "cell_type": "code",
   "execution_count": 157,
   "metadata": {},
   "outputs": [
    {
     "name": "stdout",
     "output_type": "stream",
     "text": [
      "D2 =  0.5236885067421042 , D3 =  1.997508194842377\n"
     ]
    }
   ],
   "source": [
    "D2 = np.float64(solution[D2])\n",
    "D3 = np.float64(solution[D3])\n",
    "print('D2 = ', D2, ', D3 = ', D3)"
   ]
  },
  {
   "cell_type": "markdown",
   "metadata": {},
   "source": [
    "### Lambdas berechnen"
   ]
  },
  {
   "cell_type": "code",
   "execution_count": 158,
   "metadata": {},
   "outputs": [
    {
     "name": "stdout",
     "output_type": "stream",
     "text": [
      "lambda1 =  0.28669025109891405 lambda2 =  0.1491919136214535 lambda3 =  0.5709038060639298\n"
     ]
    }
   ],
   "source": [
    "f = 200\n",
    "l1 = D1 * np.sqrt(1 + (SM1_mean / f)**2) / ((D1+D2+D3)* np.sqrt(1+ (S0M_mean / f) ** 2))\n",
    "l2 = D2 * np.sqrt(1 + (SM2_mean / f)**2) / ((D1+D2+D3)* np.sqrt(1+ (S0M_mean / f) ** 2))\n",
    "l3 = D3 * np.sqrt(1 + (SM3_mean / f)**2) / ((D1+D2+D3)* np.sqrt(1+ (S0M_mean / f) ** 2))\n",
    "print('lambda1 = ', l1, 'lambda2 = ', l2, 'lambda3 = ', l3 )"
   ]
  },
  {
   "cell_type": "markdown",
   "metadata": {},
   "source": [
    "### Fehler der Lambdas \n",
    "Größen die fehlerbehaftet sind: D2, D3, SM1, SM2, SM3, S0M"
   ]
  },
  {
   "cell_type": "code",
   "execution_count": 159,
   "metadata": {},
   "outputs": [
    {
     "name": "stdout",
     "output_type": "stream",
     "text": [
      "Fehler für lambda1:  0.02255660179537085 Fehler für lambda2:  0.06077071227048462 Fehler für lambda3:  0.04312119729542654\n"
     ]
    }
   ],
   "source": [
    "a, b, c, d, e, g = sp.symbols('a b c d e g') # stehen für die Variablen oben\n",
    "d1, F = sp.symbols('d1, F') # nicht fehlerbehaftet\n",
    "lambda1 = d1 * sp.sqrt(1 + (c / f)**2) / ((d1+a+b)* sp.sqrt(1+ (g / F) ** 2))\n",
    "lambda2 = a * sp.sqrt(1 + (d / f)**2) / ((d1+a+b)* sp.sqrt(1+ (g / F) ** 2))\n",
    "lambda3 = b * sp.sqrt(1 + (e / f)**2) / ((d1+a+b)* sp.sqrt(1+ (g / F) ** 2))\n",
    "\n",
    "derivatives = {}\n",
    "for expr, lambda_expr in zip(['lambda1', 'lambda2', 'lambda3'], [lambda1, lambda2, lambda3]):\n",
    "    for var in [a, b, c, d, e, g]:\n",
    "        partial_derivative = sp.diff(lambda_expr, var)\n",
    "        derivatives[f'd{expr}_{var}'] = partial_derivative\n",
    "\n",
    "# Jetzt mit echten Werten\n",
    "values = {\n",
    "    a: D2,  # Example values, replace with your actual values\n",
    "    b: D3,\n",
    "    c: SM1_mean,\n",
    "    d: SM2_mean,\n",
    "    e: SM3_mean,\n",
    "    g: SM0_mean,\n",
    "    d1: D1,\n",
    "    F: f\n",
    "}\n",
    "\n",
    "# Evaluate all partial derivatives at the provided values\n",
    "evaluated_derivatives = {}\n",
    "for key, derivative in derivatives.items():\n",
    "    evaluated_derivatives[key] = np.float64(derivative.subs(values).evalf())\n",
    "\n",
    "s_l1 = np.sqrt((evaluated_derivatives['dlambda1_a']* s_D2)**2 +  (evaluated_derivatives['dlambda1_b']* s_D3)**2 + (evaluated_derivatives['dlambda1_c']* SM1_std)**2 + (evaluated_derivatives['dlambda1_g']* SM0_std)**2)\n",
    "s_l2 = np.sqrt((evaluated_derivatives['dlambda2_a']* s_D2)**2 +  (evaluated_derivatives['dlambda2_b']* s_D3)**2 + (evaluated_derivatives['dlambda2_d']* SM1_std)**2 + (evaluated_derivatives['dlambda2_g']* SM0_std)**2)\n",
    "s_l3 = np.sqrt((evaluated_derivatives['dlambda3_a']* s_D2)**2 +  (evaluated_derivatives['dlambda3_b']* s_D3)**2 + (evaluated_derivatives['dlambda3_e']* SM1_std)**2 + (evaluated_derivatives['dlambda3_g']* SM0_std)**2)\n",
    "\n",
    "print('Fehler für lambda1: ', s_l1, 'Fehler für lambda2: ', s_l2, 'Fehler für lambda3: ', s_l3)"
   ]
  },
  {
   "cell_type": "markdown",
   "metadata": {},
   "source": [
    "### Right ascention and declination\n",
    "incl. correction for proper motion and precession"
   ]
  },
  {
   "cell_type": "code",
   "execution_count": 160,
   "metadata": {},
   "outputs": [],
   "source": [
    "mu1_a = -0.258 * 15/3600000 # h/yr\n",
    "mu2_a = -1.446 * 15/3600000\n",
    "mu3_a = 0.079 * 15/3600000\n",
    "mu0_a = -4.142 * 15/3600000\n",
    "\n",
    "mu1_d = -2.393 * 1/3600000 # deg/yr\n",
    "mu2_d = -6.749 * 1/3600000\n",
    "mu3_d = -2.156 * 1/3600000\n",
    "mu0_d = -8.028 * 1/3600000\n",
    "\n",
    "m = 46 * 1/3600000 # deg/yr\n",
    "n = 20 * 1/3600000 # deg/yr\n",
    "\n",
    "a_1 = 18 + 18/60 + 58.2751013004/3600 + 16 * mu1_a  # in h\n",
    "d_1 = -13 + 50/60 + 50.640051043/3600 + 16 * mu1_d # in deg\n",
    "del_a = m + n * np.tan(d_1*np.pi/180)*np.sin(a_1*15*np.pi/180)\n",
    "del_d = n* np.cos(a_1*15*np.pi/180)\n",
    "a_1 = a_1 + 16*del_a\n",
    "d_1 = d_1 - 16*del_d\n",
    "\n",
    "a_2 = 18 + 18/60 + 53.5933799376/3600 + 16* mu2_a# in h\n",
    "d_2 = -13 + 48/60 + 49.495297104/3600 + 16 * mu2_d # in deg\n",
    "del_a = m + n * np.tan(d_2*np.pi/180)*np.sin(a_2*15*np.pi/180)\n",
    "del_d = n* np.cos(a_2*15*np.pi/180)\n",
    "a_2 = a_2 + 16*del_a\n",
    "d_2 = d_2 - 16*del_d\n",
    "\n",
    "a_3 = 18 + 18/60 + 48.1227271944/3600 + 16* mu3_a # in h\n",
    "d_3 = -13 + 50/60 + 39.654025836/3600 + 16 * mu3_d# in deg\n",
    "del_a = m + n * np.tan(d_3*np.pi/180)*np.sin(a_3*15*np.pi/180)\n",
    "del_d = n* np.cos(a_3*15*np.pi/180)\n",
    "a_3 = a_3 + 16*del_a\n",
    "d_3 = d_3 - 16*del_d\n",
    "\n",
    "a_0 = 18 + 18/60 + 51.8185349088/3600 + 16* mu0_a# in h\n",
    "d_0 = -13 + 50/60 + 21.703141032/3600 + 16 * mu0_d# in deg\n",
    "del_a = m + n * np.tan(d_0*np.pi/180)*np.sin(a_0*15*np.pi/180)\n",
    "del_d = n* np.cos(a_0*15*np.pi/180)\n",
    "a_0 = a_0 + 16*del_a\n",
    "d_0 = d_0 - 16*del_d\n",
    "\n",
    "a_M = 18 + 18/60 + 52.75/3600 # in h\n",
    "d_M = -13 + 49/60 + 50/3600 # in deg"
   ]
  },
  {
   "cell_type": "markdown",
   "metadata": {},
   "source": [
    "Calculated RA and DEC for Star 0"
   ]
  },
  {
   "cell_type": "code",
   "execution_count": 161,
   "metadata": {},
   "outputs": [
    {
     "name": "stdout",
     "output_type": "stream",
     "text": [
      "RA in h:  nan Dec in deg:  -12.243124686517863\n",
      "Real RA in h:  18.314341438458  Real Dec in deg:  -12.160680997999233\n",
      "Relative Abweichungen:  nan % 0.678 %\n"
     ]
    },
    {
     "name": "stderr",
     "output_type": "stream",
     "text": [
      "/var/folders/l5/795mgj651k166hg3q3yphl2r0000gn/T/ipykernel_21202/2777942056.py:2: RuntimeWarning: invalid value encountered in arcsin\n",
      "  a_0_calc = 1/15*180/np.pi * np.arcsin(l1*np.cos(d_1*np.pi/180)/(np.cos(d_0_calc*np.pi/180))*np.sin(a_1*15*np.pi/180) + l2*np.cos(d_2*np.pi/180)/(np.cos(d_0_calc*np.pi/180))*np.sin(a_2*15*np.pi/180) + l3*np.cos(d_3*np.pi/180)/(np.cos(d_0_calc*np.pi/180))*np.sin(a_3*15*np.pi/180))\n"
     ]
    }
   ],
   "source": [
    "d_0_calc = 180/np.pi * np.arcsin(l1*np.sin(d_1 *np.pi/180)+ l2*np.sin(d_2 *np.pi/180)+ l3*np.sin(d_3 *np.pi/180))\n",
    "a_0_calc = 1/15*180/np.pi * np.arcsin(l1*np.cos(d_1*np.pi/180)/(np.cos(d_0_calc*np.pi/180))*np.sin(a_1*15*np.pi/180) + l2*np.cos(d_2*np.pi/180)/(np.cos(d_0_calc*np.pi/180))*np.sin(a_2*15*np.pi/180) + l3*np.cos(d_3*np.pi/180)/(np.cos(d_0_calc*np.pi/180))*np.sin(a_3*15*np.pi/180))\n",
    "\n",
    "print('RA in h: ', a_0_calc, 'Dec in deg: ', d_0_calc)\n",
    "print('Real RA in h: ', a_0, ' Real Dec in deg: ', d_0)\n",
    "print('Relative Abweichungen: ', round(100*np.abs(a_0 - a_0_calc)/a_0, 4),'%',  round(100*np.abs(d_0 - d_0_calc)/np.abs(d_0), 4) ,'%' )"
   ]
  },
  {
   "cell_type": "markdown",
   "metadata": {},
   "source": [
    "#### Error for d0"
   ]
  },
  {
   "cell_type": "code",
   "execution_count": 162,
   "metadata": {},
   "outputs": [
    {
     "name": "stdout",
     "output_type": "stream",
     "text": [
      "Fehler für Dec in deg:  1.0966675086013744\n"
     ]
    }
   ],
   "source": [
    "lam1, lam2, lam3 = sp.symbols('lam1 lam2 lam3') # fehlerbehaftet\n",
    "del1, del2, del3 = sp.symbols('del1 del2 del3') # nicht fehlerbehaftet\n",
    "\n",
    "del0 = 180/np.pi * sp.asin(lam1 * sp.sin(del1*sp.pi/180) + lam2 * sp.sin(del2*sp.pi/180) + lam3 * sp.sin(del3*sp.pi/180))\n",
    "del0_lam1 = sp.diff(del0, lam1)\n",
    "del0_lam2 = sp.diff(del0, lam2)\n",
    "del0_lam3 = sp.diff(del0, lam3)\n",
    "\n",
    "values = {\n",
    "    lam1: l1,\n",
    "    lam2: l2,\n",
    "    lam3: l3,\n",
    "    del1: d_1,  \n",
    "    del2: d_2,\n",
    "    del3: d_3\n",
    "}\n",
    "\n",
    "# Mit Werten\n",
    "del0_lam1 = np.float64(del0_lam1.subs(values).evalf())\n",
    "del0_lam2 = np.float64(del0_lam2.subs(values).evalf())\n",
    "del0_lam3 = np.float64(del0_lam3.subs(values).evalf())\n",
    "\n",
    "s_del0 = np.sqrt((del0_lam1 * s_l1)**2 + (del0_lam1 * s_l2)**2 + (del0_lam1 * s_l2)**2)\n",
    "print('Fehler für Dec in deg: ', s_del0)"
   ]
  },
  {
   "cell_type": "markdown",
   "metadata": {},
   "source": [
    "#### Error for alpha0"
   ]
  },
  {
   "cell_type": "code",
   "execution_count": 166,
   "metadata": {},
   "outputs": [
    {
     "ename": "TypeError",
     "evalue": "Cannot convert complex to float",
     "output_type": "error",
     "traceback": [
      "\u001b[0;31m---------------------------------------------------------------------------\u001b[0m",
      "\u001b[0;31mTypeError\u001b[0m                                 Traceback (most recent call last)",
      "Cell \u001b[0;32mIn[166], line 24\u001b[0m\n\u001b[1;32m     10\u001b[0m values \u001b[39m=\u001b[39m {\n\u001b[1;32m     11\u001b[0m     lam1: l1,\n\u001b[1;32m     12\u001b[0m     lam2: l2,\n\u001b[0;32m   (...)\u001b[0m\n\u001b[1;32m     20\u001b[0m     alph3: a_3\n\u001b[1;32m     21\u001b[0m }\n\u001b[1;32m     23\u001b[0m \u001b[39m# Mit Werten\u001b[39;00m\n\u001b[0;32m---> 24\u001b[0m alph_lam1 \u001b[39m=\u001b[39m np\u001b[39m.\u001b[39;49mfloat64(alph_lam1\u001b[39m.\u001b[39;49msubs(values)\u001b[39m.\u001b[39;49mevalf())\n\u001b[1;32m     25\u001b[0m alph_lam2 \u001b[39m=\u001b[39m np\u001b[39m.\u001b[39mfloat64(alph_lam2\u001b[39m.\u001b[39msubs(values)\u001b[39m.\u001b[39mevalf())\n\u001b[1;32m     26\u001b[0m alph_lam3 \u001b[39m=\u001b[39m np\u001b[39m.\u001b[39mfloat64(alph_lam3\u001b[39m.\u001b[39msubs(values)\u001b[39m.\u001b[39mevalf())\n",
      "File \u001b[0;32m~/anaconda3/envs/Standard/lib/python3.11/site-packages/sympy/core/expr.py:339\u001b[0m, in \u001b[0;36mExpr.__float__\u001b[0;34m(self)\u001b[0m\n\u001b[1;32m    337\u001b[0m     \u001b[39mreturn\u001b[39;00m \u001b[39mfloat\u001b[39m(result)\n\u001b[1;32m    338\u001b[0m \u001b[39mif\u001b[39;00m result\u001b[39m.\u001b[39mis_number \u001b[39mand\u001b[39;00m result\u001b[39m.\u001b[39mas_real_imag()[\u001b[39m1\u001b[39m]:\n\u001b[0;32m--> 339\u001b[0m     \u001b[39mraise\u001b[39;00m \u001b[39mTypeError\u001b[39;00m(\u001b[39m\"\u001b[39m\u001b[39mCannot convert complex to float\u001b[39m\u001b[39m\"\u001b[39m)\n\u001b[1;32m    340\u001b[0m \u001b[39mraise\u001b[39;00m \u001b[39mTypeError\u001b[39;00m(\u001b[39m\"\u001b[39m\u001b[39mCannot convert expression to float\u001b[39m\u001b[39m\"\u001b[39m)\n",
      "\u001b[0;31mTypeError\u001b[0m: Cannot convert complex to float"
     ]
    }
   ],
   "source": [
    "lam1, lam2, lam3 = sp.symbols('lam1 lam2 lam3') # fehlerbehaftet\n",
    "del1, del2, del3, del0, alph1, alph2, alph3 = sp.symbols('del1 del2 del3 del0 alph1 alph2 alph3') # nicht fehlerbehaftet\n",
    "\n",
    "alph = 1/15* 180/np.pi * sp.asin(lam1 * sp.cos(del1*sp.pi/180)/sp.cos(del0*sp.pi/180) * sp.sin(alph1*15*sp.pi/180) + lam3 * sp.cos(del3*sp.pi/180)/sp.cos(del0*sp.pi/180) * sp.sin(alph3*15*sp.pi/180) + lam2 * sp.cos(del2*sp.pi/180)/sp.cos(del0*sp.pi/180) * sp.sin(alph2*15*sp.pi/180))\n",
    "alph_lam1 = sp.diff(alph, lam1)\n",
    "alph_lam2 = sp.diff(alph, lam2)\n",
    "alph_lam3 = sp.diff(alph, lam3)\n",
    "\n",
    "\n",
    "values = {\n",
    "    lam1: l1,\n",
    "    lam2: l2,\n",
    "    lam3: l3,\n",
    "    del1: d_1,  \n",
    "    del2: d_2,\n",
    "    del3: d_3,\n",
    "    del0: d_0_calc,\n",
    "    alph1: a_1,\n",
    "    alph2: a_2,\n",
    "    alph3: a_3\n",
    "}\n",
    "\n",
    "# Mit Werten\n",
    "alph_lam1 = np.float64(alph_lam1.subs(values).evalf())\n",
    "alph_lam2 = np.float64(alph_lam2.subs(values).evalf())\n",
    "alph_lam3 = np.float64(alph_lam3.subs(values).evalf())\n",
    "\n",
    "s_alph0 = np.sqrt((alph_lam1 * s_l1)**2 + (alph_lam1 * s_l2)**2 + (alph_lam1 * s_l2)**2)\n",
    "print('Fehler für RA in h: ', s_alph0)"
   ]
  }
 ],
 "metadata": {
  "kernelspec": {
   "display_name": "Standard",
   "language": "python",
   "name": "python3"
  },
  "language_info": {
   "codemirror_mode": {
    "name": "ipython",
    "version": 3
   },
   "file_extension": ".py",
   "mimetype": "text/x-python",
   "name": "python",
   "nbconvert_exporter": "python",
   "pygments_lexer": "ipython3",
   "version": "3.11.5"
  },
  "orig_nbformat": 4
 },
 "nbformat": 4,
 "nbformat_minor": 2
}
