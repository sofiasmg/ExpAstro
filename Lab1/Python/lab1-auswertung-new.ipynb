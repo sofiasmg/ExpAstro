{
 "cells": [
  {
   "cell_type": "code",
   "execution_count": 26,
   "metadata": {},
   "outputs": [],
   "source": [
    "import numpy as np\n",
    "import matplotlib.pyplot as plt"
   ]
  },
  {
   "cell_type": "markdown",
   "metadata": {},
   "source": [
    "## Beachte Konvention: Zeit in Stunden und Winkel in Grad"
   ]
  },
  {
   "cell_type": "markdown",
   "metadata": {},
   "source": [
    "### Observed Zenith angle"
   ]
  },
  {
   "cell_type": "code",
   "execution_count": 27,
   "metadata": {},
   "outputs": [],
   "source": [
    "time_top = np.array([11+42/60+47/3600, 11+44/60+8/3600, 11+56/60+50/3600, 11+57/60+37/3600, 12+4/60+53/3600, 12+6/60+3/3600]) - 2 # in h, UT\n",
    "z_b_top = np.array([39+9/60+32/3600, 39+3/60+16/3600, 38+6/60+6/3600, 38+3/60+7/3600, 37+35/60+57/3600, 37+32/60+2/3600]) # deg\n",
    "\n",
    "time_bottom = np.array([11+49/60+8/3600, 11+51/60+3/3600,11+59/60+29/3600, 12+1/60+11/3600]) - 2 # in h, UT\n",
    "z_b_bottom = np.array([39+12/60+26/3600, 39+4/60+52/3600, 38+29/60+1/3600, 38+21/60+33/3600]) # deg"
   ]
  },
  {
   "cell_type": "markdown",
   "metadata": {},
   "source": [
    "### Almanac"
   ]
  },
  {
   "cell_type": "code",
   "execution_count": 28,
   "metadata": {},
   "outputs": [],
   "source": [
    "GMST_0UT = 14 + 52/60 + 28.7584/3600 # in h\n",
    "alpha_5 = 2.8197997 # in h\n",
    "alpha_6 = 2.8841898 # in h\n",
    "delta_5 = 16.262748 # in deg\n",
    "delta_6 = 16.545533 # in deg\n",
    "phi_1 = 15/60 + 51.58/3600 # in deg\n",
    "phi_2 = 8.72/3600 # in deg\n",
    "\n",
    "l = 13 + 17/60 + 42.5/3600 # in deg"
   ]
  },
  {
   "cell_type": "markdown",
   "metadata": {},
   "source": [
    "### Corrections"
   ]
  },
  {
   "cell_type": "markdown",
   "metadata": {},
   "source": [
    "#### Index error"
   ]
  },
  {
   "cell_type": "code",
   "execution_count": 29,
   "metadata": {},
   "outputs": [
    {
     "data": {
      "text/plain": [
       "0.007916666666659467"
      ]
     },
     "execution_count": 29,
     "metadata": {},
     "output_type": "execute_result"
    }
   ],
   "source": [
    "z_0 = np.array([85+35/60+37/3600, 85+35/60+59/3600, 85+35/60+26/3600, 85+35/60+28/3600]) # in deg\n",
    "z_180 = np.array([274+23/60+44/3600, 274+23/60+53/3600, 274+23/60+24/3600, 274+22/60+41/3600]) # in deg\n",
    "i = np.mean((360 - (z_0 + z_180))/2) # in deg\n",
    "i"
   ]
  },
  {
   "cell_type": "markdown",
   "metadata": {},
   "source": [
    "#### Refraction"
   ]
  },
  {
   "cell_type": "code",
   "execution_count": 30,
   "metadata": {},
   "outputs": [],
   "source": [
    "# z_b is in '' but we want °\n",
    "R_mean_top = 1/np.tan(((90-z_b_top) + (7.31)/ (90-z_b_top+4.4)) * np.pi/180) # removed the 3600 since it is already in deg\n",
    "R_mean_bottom = 1/np.tan(((90-z_b_bottom) + (7.31)/ (90-z_b_bottom+4.4)) * np.pi/180)\n",
    "# the unit shouldbe arcminutes according to wikipedia\n",
    "\n",
    "P_mean = 0.5*(101.83 + 101.80 ) # kPa\n",
    "T_mean = 0.5*(11 + 13) #°C\n",
    "\n",
    "R_top = R_mean_top *(P_mean/101 * 283/(273+T_mean))\n",
    "R_bottom = R_mean_bottom *(P_mean/101 * 283/(273+T_mean))"
   ]
  },
  {
   "cell_type": "code",
   "execution_count": 31,
   "metadata": {},
   "outputs": [],
   "source": [
    "# convert R from arcminutes to deg\n",
    "R_top = R_top/60\n",
    "R_bottom = R_bottom/60"
   ]
  },
  {
   "cell_type": "markdown",
   "metadata": {},
   "source": [
    "#### Transform to center of solar disk"
   ]
  },
  {
   "cell_type": "code",
   "execution_count": 32,
   "metadata": {},
   "outputs": [],
   "source": [
    "z_top = z_b_top + i + R_top + phi_1 - phi_2\n",
    "z_bottom = z_b_bottom + i + R_bottom - phi_1 - phi_2"
   ]
  },
  {
   "cell_type": "code",
   "execution_count": 33,
   "metadata": {},
   "outputs": [],
   "source": [
    "z = np.concatenate((z_top, z_bottom)) # in deg\n",
    "time = np.concatenate((time_top, time_bottom)) # in h"
   ]
  },
  {
   "cell_type": "markdown",
   "metadata": {},
   "source": [
    "### Interpolation alpha"
   ]
  },
  {
   "cell_type": "code",
   "execution_count": 34,
   "metadata": {},
   "outputs": [],
   "source": [
    "alpha = alpha_5 + time/(24) * (alpha_6 - alpha_5) # in h"
   ]
  },
  {
   "cell_type": "markdown",
   "metadata": {},
   "source": [
    "### Interpolation delta"
   ]
  },
  {
   "cell_type": "code",
   "execution_count": 35,
   "metadata": {},
   "outputs": [],
   "source": [
    "delta = delta_5 + time/(24) * (delta_6 - delta_5) # in deg"
   ]
  },
  {
   "cell_type": "code",
   "execution_count": 36,
   "metadata": {},
   "outputs": [],
   "source": [
    "# delta = delta_5/15 + time/(24) * (delta_6/15 - delta_5/15) # in h"
   ]
  },
  {
   "cell_type": "markdown",
   "metadata": {},
   "source": [
    "### Hour Angle in arcsec"
   ]
  },
  {
   "cell_type": "code",
   "execution_count": 37,
   "metadata": {},
   "outputs": [],
   "source": [
    "tau = GMST_0UT + time * (366.24/365.24) + l/15 - alpha # alles in h"
   ]
  },
  {
   "cell_type": "code",
   "execution_count": 38,
   "metadata": {},
   "outputs": [],
   "source": [
    "Y = np.arctan(np.cos(tau*15*np.pi/180) / np.tan(delta * np.pi/180)) # rad\n",
    "X = np.sin(delta*np.pi/180) * np.sqrt(1 + (np.cos(tau*15*np.pi/180)/ np.tan(delta*np.pi/180))**2)"
   ]
  },
  {
   "cell_type": "markdown",
   "metadata": {},
   "source": [
    "### Prüfe welche Gleichung"
   ]
  },
  {
   "cell_type": "code",
   "execution_count": 39,
   "metadata": {},
   "outputs": [
    {
     "name": "stdout",
     "output_type": "stream",
     "text": [
      "[ True  True  True  True  True  True  True  True  True  True]\n"
     ]
    }
   ],
   "source": [
    "b = (52 + 27/60 + 24/3600)*np.pi/180 # rad\n",
    "print((Y + b) > np.pi/2)"
   ]
  },
  {
   "cell_type": "markdown",
   "metadata": {},
   "source": [
    "-> First solution for b!"
   ]
  },
  {
   "cell_type": "code",
   "execution_count": 40,
   "metadata": {},
   "outputs": [
    {
     "name": "stdout",
     "output_type": "stream",
     "text": [
      "52.45973637353425\n",
      "52\n",
      "27\n",
      "35\n"
     ]
    }
   ],
   "source": [
    "b = (np.pi - np.arcsin(np.cos(z*np.pi/180)/X) - Y) * 180/np.pi\n",
    "b = np.mean(b)\n",
    "degrees = int(b)\n",
    "minutes = int((b - int(b))*60)\n",
    "seconds = int(((b - int(b))*60 - minutes)*60)\n",
    "\n",
    "print(b)\n",
    "print(degrees)\n",
    "print(minutes)\n",
    "print(seconds)"
   ]
  },
  {
   "cell_type": "code",
   "execution_count": null,
   "metadata": {},
   "outputs": [],
   "source": [
    "# Breitengrad laut Google maps: 52°27'24''"
   ]
  },
  {
   "cell_type": "code",
   "execution_count": 41,
   "metadata": {},
   "outputs": [
    {
     "data": {
      "text/plain": [
       "52.459722222222226"
      ]
     },
     "execution_count": 41,
     "metadata": {},
     "output_type": "execute_result"
    }
   ],
   "source": [
    "check = degrees + minutes/60 + seconds/3600\n",
    "check"
   ]
  },
  {
   "cell_type": "code",
   "execution_count": null,
   "metadata": {},
   "outputs": [],
   "source": []
  }
 ],
 "metadata": {
  "kernelspec": {
   "display_name": "Python 3",
   "language": "python",
   "name": "python3"
  },
  "language_info": {
   "codemirror_mode": {
    "name": "ipython",
    "version": 3
   },
   "file_extension": ".py",
   "mimetype": "text/x-python",
   "name": "python",
   "nbconvert_exporter": "python",
   "pygments_lexer": "ipython3",
   "version": "3.11.3"
  },
  "orig_nbformat": 4
 },
 "nbformat": 4,
 "nbformat_minor": 2
}
