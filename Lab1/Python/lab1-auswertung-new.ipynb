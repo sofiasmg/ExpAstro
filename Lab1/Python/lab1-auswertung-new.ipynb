{
 "cells": [
  {
   "cell_type": "code",
   "execution_count": 185,
   "metadata": {},
   "outputs": [],
   "source": [
    "import numpy as np\n",
    "import matplotlib.pyplot as plt\n",
    "import sympy as sp"
   ]
  },
  {
   "cell_type": "markdown",
   "metadata": {},
   "source": [
    "## Beachte Konvention: Zeit in Stunden und Winkel in Grad"
   ]
  },
  {
   "cell_type": "markdown",
   "metadata": {},
   "source": [
    "### Observed Zenith angle"
   ]
  },
  {
   "cell_type": "code",
   "execution_count": 186,
   "metadata": {},
   "outputs": [],
   "source": [
    "time_top = np.array([11+42/60+47/3600, 11+44/60+8/3600, 11+56/60+50/3600, 11+57/60+37/3600, 12+4/60+53/3600, 12+6/60+3/3600,\n",
    "                     11+43/60+31/3600, 11+45/60+5/3600, 11+46/60+20/3600, 11+47/60+22/3600, 11+51/60+27/3600]) - 2 # in h, UT\n",
    "z_b_top = np.array([39+9/60+32/3600, 39+3/60+16/3600, 38+6/60+6/3600, 38+3/60+7/3600, 37+35/60+57/3600, 37+32/60+2/3600,\n",
    "                    38+49/60+19/3600, 38+56/60+10/3600, 38+36/60+37/3600, 38+48/60+14/3600, 38+30/60+23/3600]) # deg\n",
    "\n",
    "time_bottom = np.array([11+49/60+8/3600, 11+51/60+3/3600,11+59/60+29/3600, 12+1/60+11/3600,\n",
    "                        11+23/60+16/3600, 11+24/60+5/3600, 11+31/60+13/3600, 11+32/60+56/3600, 11+36/60+24/3600, 11+38/60+9/3600, 11+42/60+17/3600]) - 2 # in h, UT\n",
    "z_b_bottom = np.array([39+12/60+26/3600, 39+4/60+52/3600, 38+29/60+1/3600, 38+21/60+33/3600,\n",
    "                       41+23/60+11/3600, 41+18/60+13/3600, 40+39/60+18/3600, 40+46/60+52/3600, 40+12/60+43/3600,  39+46/60+56/3600,39+41/60+56/3600]) # deg"
   ]
  },
  {
   "cell_type": "markdown",
   "metadata": {},
   "source": [
    "### Almanac"
   ]
  },
  {
   "cell_type": "code",
   "execution_count": 187,
   "metadata": {},
   "outputs": [],
   "source": [
    "GMST_0UT = 14 + 52/60 + 28.7584/3600 # in h\n",
    "alpha_5 = 2.8197997 # in h\n",
    "alpha_6 = 2.8841898 # in h\n",
    "delta_5 = 16.262748 # in deg\n",
    "delta_6 = 16.545533 # in deg\n",
    "phi_1 = 15/60 + 51.58/3600 # in deg\n",
    "phi_2 = 8.72/3600 # in deg\n",
    "\n",
    "l = 13 + 17/60 + 42.5/3600 # in deg"
   ]
  },
  {
   "cell_type": "markdown",
   "metadata": {},
   "source": [
    "### Corrections"
   ]
  },
  {
   "cell_type": "markdown",
   "metadata": {},
   "source": [
    "#### Index error"
   ]
  },
  {
   "cell_type": "code",
   "execution_count": 188,
   "metadata": {},
   "outputs": [
    {
     "data": {
      "text/plain": [
       "0.007916666666659467"
      ]
     },
     "execution_count": 188,
     "metadata": {},
     "output_type": "execute_result"
    }
   ],
   "source": [
    "z_0 = np.array([85+35/60+37/3600, 85+35/60+59/3600, 85+35/60+26/3600, 85+35/60+28/3600]) # in deg\n",
    "z_180 = np.array([274+23/60+44/3600, 274+23/60+53/3600, 274+23/60+24/3600, 274+22/60+41/3600]) # in deg\n",
    "i = np.mean((360 - (z_0 + z_180))/2) # in deg\n",
    "i\n"
   ]
  },
  {
   "cell_type": "markdown",
   "metadata": {},
   "source": [
    "#### Refraction"
   ]
  },
  {
   "cell_type": "code",
   "execution_count": 189,
   "metadata": {},
   "outputs": [],
   "source": [
    "# z_b is in '' but we want °\n",
    "R_mean_top = 1/np.tan(((90-z_b_top) + (7.31)/ (90-z_b_top+4.4)) * np.pi/180) # removed the 3600 since it is already in deg\n",
    "R_mean_bottom = 1/np.tan(((90-z_b_bottom) + (7.31)/ (90-z_b_bottom+4.4)) * np.pi/180)\n",
    "# the unit shouldbe arcminutes according to wikipedia\n",
    "\n",
    "P_mean = 0.5*(101.83 + 101.80 ) # kPa\n",
    "T_mean = 0.5*(11 + 13) #°C\n",
    "\n",
    "R_top = R_mean_top *(P_mean/101 * 283/(273+T_mean))\n",
    "R_bottom = R_mean_bottom *(P_mean/101 * 283/(273+T_mean))\n",
    "\n",
    "# convert R from arcminutes to deg\n",
    "R_top = R_top/60\n",
    "R_bottom = R_bottom/60"
   ]
  },
  {
   "cell_type": "markdown",
   "metadata": {},
   "source": [
    "#### Transform to center of solar disk"
   ]
  },
  {
   "cell_type": "code",
   "execution_count": 190,
   "metadata": {},
   "outputs": [],
   "source": [
    "z_top = z_b_top + i + R_top + phi_1 - phi_2\n",
    "z_bottom = z_b_bottom + i + R_bottom - phi_1 - phi_2"
   ]
  },
  {
   "cell_type": "code",
   "execution_count": 191,
   "metadata": {},
   "outputs": [],
   "source": [
    "z = np.concatenate((z_top, z_bottom)) # in deg\n",
    "time = np.concatenate((time_top, time_bottom)) # in h"
   ]
  },
  {
   "cell_type": "markdown",
   "metadata": {},
   "source": [
    "### Interpolation alpha"
   ]
  },
  {
   "cell_type": "code",
   "execution_count": 192,
   "metadata": {},
   "outputs": [],
   "source": [
    "alpha = alpha_5 + time/24 * (alpha_6 - alpha_5) # in h"
   ]
  },
  {
   "cell_type": "markdown",
   "metadata": {},
   "source": [
    "### Interpolation delta"
   ]
  },
  {
   "cell_type": "code",
   "execution_count": 193,
   "metadata": {},
   "outputs": [],
   "source": [
    "delta = delta_5 + time/24 * (delta_6 - delta_5) # in deg"
   ]
  },
  {
   "cell_type": "markdown",
   "metadata": {},
   "source": [
    "### Hour Angle in arcsec"
   ]
  },
  {
   "cell_type": "code",
   "execution_count": 194,
   "metadata": {},
   "outputs": [],
   "source": [
    "tau = GMST_0UT + time * (366.24/365.24) + l/15 - alpha # alles in h"
   ]
  },
  {
   "cell_type": "code",
   "execution_count": 195,
   "metadata": {},
   "outputs": [],
   "source": [
    "Y = np.arctan(np.cos(tau*15*np.pi/180) / np.tan(delta * np.pi/180)) # rad\n",
    "X = np.sin(delta*np.pi/180) * np.sqrt(1 + (np.cos(tau*15*np.pi/180)/ np.tan(delta*np.pi/180))**2)"
   ]
  },
  {
   "cell_type": "markdown",
   "metadata": {},
   "source": [
    "### Prüfe welche Gleichung"
   ]
  },
  {
   "cell_type": "code",
   "execution_count": 196,
   "metadata": {},
   "outputs": [
    {
     "name": "stdout",
     "output_type": "stream",
     "text": [
      "[ True  True  True  True  True  True  True  True  True  True  True  True\n",
      "  True  True  True  True  True  True  True  True  True  True]\n"
     ]
    }
   ],
   "source": [
    "b = (52 + 27/60 + 24/3600)*np.pi/180 # rad\n",
    "print((Y + b) > np.pi/2)"
   ]
  },
  {
   "cell_type": "markdown",
   "metadata": {},
   "source": [
    "-> First solution for b!"
   ]
  },
  {
   "cell_type": "code",
   "execution_count": 197,
   "metadata": {},
   "outputs": [
    {
     "name": "stdout",
     "output_type": "stream",
     "text": [
      "52.42787173588032\n",
      "52\n",
      "25\n",
      "40\n"
     ]
    }
   ],
   "source": [
    "b = (np.pi - np.arcsin(np.cos(z*np.pi/180)/X) - Y) * 180/np.pi\n",
    "bmean = np.mean(b)\n",
    "degrees = int(bmean)\n",
    "minutes = int((bmean - int(bmean))*60)\n",
    "seconds = int(((bmean - int(bmean))*60 - minutes)*60)\n",
    "\n",
    "print(bmean)\n",
    "print(degrees)\n",
    "print(minutes)\n",
    "print(seconds)"
   ]
  },
  {
   "cell_type": "code",
   "execution_count": 204,
   "metadata": {},
   "outputs": [
    {
     "data": {
      "text/plain": [
       "(22,)"
      ]
     },
     "execution_count": 204,
     "metadata": {},
     "output_type": "execute_result"
    }
   ],
   "source": [
    "b.shape"
   ]
  },
  {
   "cell_type": "code",
   "execution_count": 213,
   "metadata": {},
   "outputs": [
    {
     "data": {
      "image/png": "[encoded data removed]",
      "text/plain": [
       "<Figure size 900x500 with 1 Axes>"
      ]
     },
     "metadata": {},
     "output_type": "display_data"
    }
   ],
   "source": [
    "plt.figure(figsize=(9, 5))\n",
    "plt.hist(b, bins=22, alpha=0.7, color='green')\n",
    "plt.title('Histogram of geographical latitude b', fontsize=18)\n",
    "plt.xlabel('b [°]', fontsize=16)\n",
    "plt.ylabel('Frequency', fontsize=16)\n",
    "plt.yticks(fontsize=16) \n",
    "plt.xticks(fontsize=16)  \n",
    "plt.savefig('histogram.png', dpi=300, bbox_inches='tight')"
   ]
  },
  {
   "cell_type": "code",
   "execution_count": 149,
   "metadata": {},
   "outputs": [],
   "source": [
    "# Breitengrad laut Google maps: 52°27'24''"
   ]
  },
  {
   "cell_type": "code",
   "execution_count": 150,
   "metadata": {},
   "outputs": [
    {
     "data": {
      "text/plain": [
       "52.42777777777778"
      ]
     },
     "execution_count": 150,
     "metadata": {},
     "output_type": "execute_result"
    }
   ],
   "source": [
    "check = degrees + minutes/60 + seconds/3600\n",
    "check"
   ]
  },
  {
   "cell_type": "markdown",
   "metadata": {},
   "source": [
    "# Error propagation"
   ]
  },
  {
   "cell_type": "code",
   "execution_count": 151,
   "metadata": {},
   "outputs": [],
   "source": [
    "# errors\n",
    "s_a_time = 1/3600 # Ablesefehler digitale Anzeige (Atomuhr): +- letzte Stelle, Restfehler von atomic clock unbekannt\n",
    "s_a_zb = 1/3600 # Ablesefehler zenith angle\n",
    "s_r_zb = 5/3600 # Restfehler laut Hersteller = 5''\n",
    "\n",
    "u_zb = np.sqrt(s_a_zb**2 + s_r_zb**2) # Ablese und Restfehler kombinieren\n",
    "u_time = s_a_time"
   ]
  },
  {
   "cell_type": "code",
   "execution_count": 152,
   "metadata": {},
   "outputs": [],
   "source": [
    "s_a_z = 1/3600 # Ablesefehler zenith angle\n",
    "s_i = 0.5*np.sqrt(2)*s_a_zb"
   ]
  },
  {
   "cell_type": "code",
   "execution_count": 153,
   "metadata": {},
   "outputs": [],
   "source": [
    "# Calculate error for Refraction via error propagation\n",
    "a = sp.symbols('a')  # Changed z to a\n",
    "R_mean = sp.cot(((90 - a) + (7.31) / (90 - a + 4.4)) * sp.pi / 180)  # formula for Rmean\n",
    "par_der = sp.diff(R_mean, a)  # partial derivative\n",
    "par_der_results_top = np.zeros(z_b_top.shape[0])\n",
    "par_der_results_bottom = np.zeros(z_b_bottom.shape[0])\n",
    "\n",
    "for i in range(z_b_bottom.shape[0]):\n",
    "    par_der_results_bottom[i] = par_der.subs({a: z_b_bottom[i]}).evalf()  # Changed z to a\n",
    "\n",
    "for i in range(z_b_top.shape[0]):\n",
    "    par_der_results_top[i] = par_der.subs({a: z_b_top[i]}).evalf()  # Changed z to a\n",
    "\n",
    "# error for Rmean\n",
    "s_Rmean_top = np.abs(par_der_results_top) * np.abs(u_zb)\n",
    "s_Rmean_bottom = np.abs(par_der_results_bottom) * np.abs(u_zb)\n",
    "\n",
    "# error for R\n",
    "s_R_top = np.abs(P_mean / 101 * 283 / (273 + T_mean)) * np.abs(s_Rmean_top) / 60\n",
    "s_R_bottom = np.abs(P_mean / 101 * 283 / (273 + T_mean)) * np.abs(s_Rmean_bottom) / 60\n"
   ]
  },
  {
   "cell_type": "code",
   "execution_count": 154,
   "metadata": {},
   "outputs": [],
   "source": [
    "s_z_top = np.abs(u_zb) + np.abs(s_i)+ np.abs(s_R_top)\n",
    "s_z_bottom = np.abs(u_zb) + np.abs(s_i)+ np.abs(s_R_bottom)\n",
    "s_z = np.concatenate((s_z_top, s_z_bottom))\n",
    "s_alpha = np.abs((alpha_6 - alpha_5)/24 * u_time)\n",
    "s_delta = np.abs((delta_6 - delta_5)/24 * u_time)\n",
    "s_tau = u_time * (366.24/365.24)"
   ]
  },
  {
   "cell_type": "code",
   "execution_count": 155,
   "metadata": {},
   "outputs": [
    {
     "data": {
      "text/plain": [
       "array([7.53481864e-06, 7.54227559e-06, 7.61242225e-06, 7.61674865e-06,\n",
       "       7.65688161e-06, 7.66332475e-06, 7.53886934e-06, 7.54752302e-06,\n",
       "       7.55442748e-06, 7.56013512e-06, 7.58268903e-06, 7.56989323e-06,\n",
       "       7.58047970e-06, 7.62705826e-06, 7.63644723e-06, 7.42700620e-06,\n",
       "       7.43151789e-06, 7.47092496e-06, 7.48040810e-06, 7.49955815e-06,\n",
       "       7.50922504e-06, 7.53205678e-06])"
      ]
     },
     "execution_count": 155,
     "metadata": {},
     "output_type": "execute_result"
    }
   ],
   "source": [
    "t, d = sp.symbols('t d')\n",
    "\n",
    "y = sp.atan(sp.cos(t * 15 * sp.pi / 180) / sp.tan(d * sp.pi / 180))\n",
    "x = sp.sin(d * sp.pi / 180) * sp.sqrt(1 + (sp.cos(t * 15 * sp.pi / 180) / sp.tan(d * sp.pi / 180))**2)\n",
    "\n",
    "dy_dt = sp.diff(y, t)\n",
    "dx_dt = sp.diff(x, t)\n",
    "\n",
    "t_values = tau\n",
    "d_value = delta\n",
    "\n",
    "dy_results = np.zeros(tau.shape[0])\n",
    "dx_results = np.zeros(tau.shape[0])\n",
    "\n",
    "for i in range(len(t_values)):\n",
    "    dy_results[i] = dy_dt.subs({t: t_values[i] * np.pi / 180, d: d_value[i] * np.pi / 180}).evalf()\n",
    "    dx_results[i] = dx_dt.subs({t: t_values[i] * np.pi / 180, d: d_value[i] * np.pi / 180}).evalf()\n",
    "\n",
    "s_x = np.abs(dx_results) * s_tau\n",
    "s_y = np.abs(dy_results) * s_tau\n",
    "s_x\n"
   ]
  },
  {
   "cell_type": "code",
   "execution_count": 156,
   "metadata": {},
   "outputs": [
    {
     "name": "stdout",
     "output_type": "stream",
     "text": [
      "0\n",
      "1\n",
      "9\n"
     ]
    }
   ],
   "source": [
    "x, y, zet = sp.symbols('x y zet')\n",
    "\n",
    "b = (sp.pi - sp.asin(sp.cos(zet * sp.pi / 180) / x) - y) * 180 / sp.pi\n",
    "\n",
    "db_dX = sp.diff(b, x)\n",
    "db_dY = sp.diff(b, y)\n",
    "db_dz = sp.diff(b, zet)\n",
    "\n",
    "dx_results = np.zeros(z.shape[0])\n",
    "dy_results = np.zeros(z.shape[0])\n",
    "dz_results = np.zeros(z.shape[0])\n",
    "\n",
    "for i in range(z.shape[0]):\n",
    "    dx_results[i] = db_dX.subs({x: X[i], y: Y[i], zet: z[i]}).evalf()\n",
    "    dy_results[i] = db_dX.subs({x: X[i], y: Y[i], zet: z[i]}).evalf()\n",
    "    dz_results[i] = db_dX.subs({x: X[i], y: Y[i], zet: z[i]}).evalf()\n",
    "\n",
    "s_b = np.sqrt(dx_results**2 * s_x**2 + dy_results**2 * s_y**2 + dz_results**2 * s_z**2)\n",
    "s_b_mean = np.sum(s_b**2)/s_b.shape[0]\n",
    "degrees = int(s_b_mean)\n",
    "minutes = int((s_b_mean - int(s_b_mean))*60)\n",
    "seconds = int(((s_b_mean - int(s_b_mean))*60 - minutes)*60)\n",
    "print(degrees)\n",
    "print(minutes)\n",
    "print(seconds)\n"
   ]
  }
 ],
 "metadata": {
  "kernelspec": {
   "display_name": "Python 3",
   "language": "python",
   "name": "python3"
  },
  "language_info": {
   "codemirror_mode": {
    "name": "ipython",
    "version": 3
   },
   "file_extension": ".py",
   "mimetype": "text/x-python",
   "name": "python",
   "nbconvert_exporter": "python",
   "pygments_lexer": "ipython3",
   "version": "3.11.5"
  },
  "orig_nbformat": 4
 },
 "nbformat": 4,
 "nbformat_minor": 2
}
